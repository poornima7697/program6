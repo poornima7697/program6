{
 "cells": [
  {
   "cell_type": "code",
   "execution_count": 20,
   "id": "0bb44a61",
   "metadata": {},
   "outputs": [],
   "source": [
    "\n",
    "#1.\tDefine a class Teacher described as below:-\n",
    "#Instance Variables:Name, Address, Phone, Subject Specialization, Monthly_Salary, Income Tax.\n",
    "#Instance methods   :    \n",
    "#•\tWrite constructor\n",
    "#•\tTo accept the details of a teacher including the monthlysalary.\n",
    "#•\tTo display the details of the teacher.\n",
    "#•\tTo compute the annual Income Tax as 5% of the annual salary above Rs.1,75,000/-.\n",
    "\n",
    "\n",
    "\n",
    "class Teacher:\n",
    "    def __init__(self,Name,Address,Phone,Sub_specification,Monthly_Salary,Anuualsalary,Income_Tax):\n",
    "        self.Name=Name                        # Instance Variable\n",
    "        self.Address=Address           \n",
    "        self.Phone=Phone \n",
    "        self.Sub_specification=Sub_specification \n",
    "        self.Monthly_Salary=Monthly_Salary \n",
    "        self.Anuualsalary=Anuualsalary\n",
    "        self.Income_Tax=Income_Tax\n",
    "        \n",
    "        \n",
    "    def display(self):\n",
    "        print(\"Name\",self.Name)\n",
    "        print(\"Address\",self.Address)\n",
    "        print(\"Phone\",self.Phone)\n",
    "        print(\"Sub_specification\",self.Sub_specification)\n",
    "        print(\"Monthly_Salary\",self.Monthly_Salary)\n",
    "        print(\"monthlysalary\",self.Anuualsalary)\n",
    "        print(\"Income_Tax\",self.Income_Tax)\n",
    "        \n",
    "    def compute(self):\n",
    "        if self.Monthly_Salary>175000 :\n",
    "            self.Income_Tax=0.05*self.Monthly_Salary\n",
    "        else:\n",
    "            self.Income_Tax=0\n",
    "    \n",
    "          \n"
   ]
  },
  {
   "cell_type": "code",
   "execution_count": 22,
   "id": "805ca06b",
   "metadata": {},
   "outputs": [
    {
     "name": "stdout",
     "output_type": "stream",
     "text": [
      "Name Geeta\n",
      "Address Pune\n",
      "Phone 9875468569\n",
      "Sub_specification Maths\n",
      "Monthly_Salary 5000\n",
      "monthlysalary 60000\n",
      "Income_Tax 0\n"
     ]
    }
   ],
   "source": [
    "T =Teacher(\"Geeta\",\"Pune\",9875468569,\"Maths\",5000,60000,90)\n",
    "T.compute()\n",
    "T.display()"
   ]
  },
  {
   "cell_type": "code",
   "execution_count": 30,
   "id": "bc5f9ee6",
   "metadata": {},
   "outputs": [],
   "source": [
    "#2.\tDefine a class ‘FoodWorld’ having the following description –\n",
    "#Instance Variables:\n",
    "#vegName : Name of the vegetable bought (string)vegQty :  Quantity of vegetable bought (int) vegPrice :  Price per unit of the vegetable (int)bill : Total bill\n",
    "#Instance methods:\n",
    "#•\twrite Constructor\n",
    "#•\tvoid displayData ( ):   to display the details in different line formatted as below example:\n",
    "#•\tcalcBill ( ) :      to calculate the amount to be paid by the customer for the vegetable\n",
    "\n",
    "\n",
    "\n",
    "class FoodWorld:\n",
    "    def __init__(self,vegName,vegQty,vegPrice,Bill=0):\n",
    "        self.vegName=vegName                        # Instance Variable\n",
    "        self.vegQty=vegQty           \n",
    "        self.vegPrice=vegPrice\n",
    "        self.Bill=Bill\n",
    "        \n",
    "    def displayData(self):\n",
    "        print(\"vegetable name\",self.vegName)\n",
    "        print(\"Quntity\",self.vegQty)\n",
    "        print(\"Veg Price\",self.vegPrice)\n",
    "        print(\"Total bill\",self.Bill)\n",
    "        \n",
    "    def calculate(self):\n",
    "        self.Bill=self.vegQty*self.vegPrice\n",
    "        \n",
    "        \n",
    "        \n",
    "        \n",
    "      \n",
    "        \n",
    "    "
   ]
  },
  {
   "cell_type": "code",
   "execution_count": 36,
   "id": "0212d0fb",
   "metadata": {},
   "outputs": [
    {
     "name": "stdout",
     "output_type": "stream",
     "text": [
      "vegetable name Brinjal\n",
      "Quntity 2\n",
      "Veg Price 50\n",
      "Total bill 100\n"
     ]
    }
   ],
   "source": [
    "F=FoodWorld(\"Brinjal\",2,50)\n",
    "F.calculate()\n",
    "F.displayData()\n",
    "\n"
   ]
  },
  {
   "cell_type": "code",
   "execution_count": null,
   "id": "fd2c7fd3",
   "metadata": {},
   "outputs": [],
   "source": []
  }
 ],
 "metadata": {
  "kernelspec": {
   "display_name": "Python 3 (ipykernel)",
   "language": "python",
   "name": "python3"
  },
  "language_info": {
   "codemirror_mode": {
    "name": "ipython",
    "version": 3
   },
   "file_extension": ".py",
   "mimetype": "text/x-python",
   "name": "python",
   "nbconvert_exporter": "python",
   "pygments_lexer": "ipython3",
   "version": "3.9.7"
  }
 },
 "nbformat": 4,
 "nbformat_minor": 5
}
